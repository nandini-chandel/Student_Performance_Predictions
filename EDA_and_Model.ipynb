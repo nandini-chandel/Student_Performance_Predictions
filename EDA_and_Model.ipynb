{
 "cells": [
  {
   "cell_type": "markdown",
   "id": "3603ba01",
   "metadata": {},
   "source": [
    "# EDA & Model — Sundar Edition"
   ]
  },
  {
   "cell_type": "markdown",
   "id": "5d0c00ac",
   "metadata": {},
   "source": [
    "This notebook demonstrates regression training and also notes how to use the app for classification (Pass/At-Risk) and SHAP explainability if installed."
   ]
  },
  {
   "cell_type": "code",
   "execution_count": null,
   "id": "69a4113a",
   "metadata": {},
   "outputs": [],
   "source": [
    "import pandas as pd\n",
    "import matplotlib.pyplot as plt\n",
    "from sklearn.model_selection import train_test_split\n",
    "from sklearn.ensemble import RandomForestRegressor\n",
    "from sklearn.metrics import r2_score, mean_absolute_error, mean_squared_error\n",
    "\n",
    "df = pd.read_csv('../data/student_performance_sample.csv')\n",
    "df.head()"
   ]
  },
  {
   "cell_type": "code",
   "execution_count": null,
   "id": "f69c9db0",
   "metadata": {},
   "outputs": [],
   "source": [
    "df.describe()"
   ]
  },
  {
   "cell_type": "code",
   "execution_count": null,
   "id": "a7392d09",
   "metadata": {},
   "outputs": [],
   "source": [
    "FEATURES = [\"Hours_Studied\",\"Attendance\",\"Past_Score\",\"Sleep_Hours\",\"Social_Media_Hours\"]\n",
    "TARGET = \"Final_Score\"\n",
    "\n",
    "X = df[FEATURES]\n",
    "y = df[TARGET]\n",
    "X_train, X_test, y_train, y_test = train_test_split(X, y, test_size=0.2, random_state=42)\n",
    "\n",
    "model = RandomForestRegressor(n_estimators=200, random_state=42)\n",
    "model.fit(X_train, y_train)\n",
    "y_pred = model.predict(X_test)\n",
    "\n",
    "r2 = r2_score(y_test, y_pred)\n",
    "mae = mean_absolute_error(y_test, y_pred)\n",
    "rmse = mean_squared_error(y_test, y_pred, squared=False)\n",
    "r2, mae, rmse"
   ]
  },
  {
   "cell_type": "code",
   "execution_count": null,
   "id": "ca2c760a",
   "metadata": {},
   "outputs": [],
   "source": [
    "imp = model.feature_importances_\n",
    "for f, v in sorted(zip(FEATURES, imp), key=lambda x: -x[1]):\n",
    "    print(f\"{f:>20s}: {v:.3f}\")"
   ]
  }
 ],
 "metadata": {},
 "nbformat": 4,
 "nbformat_minor": 5
}
